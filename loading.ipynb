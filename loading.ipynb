{
 "cells": [
  {
   "cell_type": "markdown",
   "metadata": {},
   "source": [
    "## Introduction\n",
    "Before doing anything with an image, it must be loaded into memory.\n",
    "OpenCV has a function: `cv2.imread` for this task. In a Jupyter notebook, this can't be used, so PyPlot is used instead. First we need to get the image file."
   ]
  },
  {
   "cell_type": "code",
   "execution_count": null,
   "metadata": {
    "vscode": {
     "languageId": "shellscript"
    }
   },
   "outputs": [],
   "source": [
    "!wget https://github.com/pandaero/OpenCV-101/raw/main/aeroplane.jpg"
   ]
  },
  {
   "cell_type": "markdown",
   "metadata": {},
   "source": [
    "The script first needs to load the necessary libraries, and define the arguments it takes, in this case an image. The image will be converted and output to a new name. For the Jupyter notebook, the arguments are disabled."
   ]
  },
  {
   "cell_type": "code",
   "execution_count": null,
   "metadata": {},
   "outputs": [],
   "source": [
    "# Import necessary libraries.\n",
    "%matplotlib inline\n",
    "from matplotlib import pyplot as plt\n",
    "import argparse\n",
    "import cv2\n",
    "\n",
    "# Function argument parser.\n",
    "#ap = argparse.ArgumentParser()\n",
    "#ap.add_argument(\"-i\", \"--image\", required=True, help=\"Path to input image\")\n",
    "#ap.add_argument(\"-o\", \"--out\", required=False, help=\"Name for output image\")\n",
    "args = {\"image\": \"aeroplane.jpg\",\n",
    "\t\t\"out\": \"skies\"}"
   ]
  },
  {
   "cell_type": "markdown",
   "metadata": {},
   "source": [
    "In this section the image is loaded to memory, and the dimensions and channel data are obtained."
   ]
  },
  {
   "cell_type": "code",
   "execution_count": null,
   "metadata": {},
   "outputs": [],
   "source": [
    "# Load the image, and get its dimensions and no. of channels.\n",
    "image = cv2.imread(args[\"image\"])\n",
    "(h, w, c) = image.shape[:3]\n",
    "\n",
    "# Write out the image dimensions, and number of channels.\n",
    "print(\"width: {} px\".format(w))\n",
    "print(\"height: {} px\".format(h))\n",
    "print(\"channels: {}\".format(c))"
   ]
  },
  {
   "cell_type": "markdown",
   "metadata": {},
   "source": [
    "The image is shown in this step until a key is pressed. PyPlot just shows it."
   ]
  },
  {
   "cell_type": "code",
   "execution_count": null,
   "metadata": {},
   "outputs": [],
   "source": [
    "# Show the image and wait for a keypress or window close.\n",
    "#cv2.imshow(\"Image\", image)\n",
    "#cv2.waitKey(0)\n",
    "plt.imshow(image)"
   ]
  },
  {
   "cell_type": "code",
   "execution_count": null,
   "metadata": {},
   "outputs": [],
   "source": [
    "# Save the image on disk according to name.\n",
    "if args[\"out\"]:\n",
    "\tname = args[\"out\"]+\".jpg\"\n",
    "else:\n",
    "\tname = \"savedimage.jpg\"\n",
    "cv2.imwrite(name, image)"
   ]
  }
 ],
 "metadata": {
  "kernelspec": {
   "display_name": "Python 3 (ipykernel)",
   "language": "python",
   "name": "python3"
  },
  "language_info": {
   "codemirror_mode": {
    "name": "ipython",
    "version": 3
   },
   "file_extension": ".py",
   "mimetype": "text/x-python",
   "name": "python",
   "nbconvert_exporter": "python",
   "pygments_lexer": "ipython3",
   "version": "3.10.4"
  },
  "vscode": {
   "interpreter": {
    "hash": "af5b9ec3e628ca270bf64f5c7fa6db34db36736322336ff714e729aaf188dfc2"
   }
  }
 },
 "nbformat": 4,
 "nbformat_minor": 2
}
